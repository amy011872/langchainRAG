{
 "cells": [
  {
   "cell_type": "code",
   "execution_count": 1,
   "metadata": {},
   "outputs": [
    {
     "name": "stdout",
     "output_type": "stream",
     "text": [
      "Collecting langchain\n",
      "  Downloading langchain-0.1.0-py3-none-any.whl (797 kB)\n",
      "\u001b[2K     \u001b[90m━━━━━━━━━━━━━━━━━━━━━━━━━━━━━━━━━━━━━\u001b[0m \u001b[32m798.0/798.0 kB\u001b[0m \u001b[31m664.9 kB/s\u001b[0m eta \u001b[36m0:00:00\u001b[0m00:01\u001b[0m00:01\u001b[0m\n",
      "\u001b[?25hCollecting faiss-cpu\n",
      "  Using cached faiss_cpu-1.7.4-cp39-cp39-macosx_11_0_arm64.whl (2.7 MB)\n",
      "Collecting tiktoken\n",
      "  Downloading tiktoken-0.5.2-cp39-cp39-macosx_11_0_arm64.whl (955 kB)\n",
      "\u001b[2K     \u001b[90m━━━━━━━━━━━━━━━━━━━━━━━━━━━━━━━━━━━━━\u001b[0m \u001b[32m955.6/955.6 kB\u001b[0m \u001b[31m632.3 kB/s\u001b[0m eta \u001b[36m0:00:00\u001b[0m00:01\u001b[0m00:01\u001b[0m\n",
      "\u001b[?25hRequirement already satisfied: requests<3,>=2 in /Users/r07525009/.pyenv/versions/miniforge3/lib/python3.9/site-packages (from langchain) (2.28.1)\n",
      "Collecting jsonpatch<2.0,>=1.33\n",
      "  Downloading jsonpatch-1.33-py2.py3-none-any.whl (12 kB)\n",
      "Collecting PyYAML>=5.3\n",
      "  Downloading PyYAML-6.0.1-cp39-cp39-macosx_11_0_arm64.whl (174 kB)\n",
      "\u001b[2K     \u001b[90m━━━━━━━━━━━━━━━━━━━━━━━━━━━━━━━━━━━━━\u001b[0m \u001b[32m174.4/174.4 kB\u001b[0m \u001b[31m841.2 kB/s\u001b[0m eta \u001b[36m0:00:00\u001b[0m00:01\u001b[0m00:01\u001b[0m\n",
      "\u001b[?25hCollecting dataclasses-json<0.7,>=0.5.7\n",
      "  Downloading dataclasses_json-0.6.3-py3-none-any.whl (28 kB)\n",
      "Collecting async-timeout<5.0.0,>=4.0.0\n",
      "  Downloading async_timeout-4.0.3-py3-none-any.whl (5.7 kB)\n",
      "Collecting langsmith<0.1.0,>=0.0.77\n",
      "  Downloading langsmith-0.0.77-py3-none-any.whl (48 kB)\n",
      "\u001b[2K     \u001b[90m━━━━━━━━━━━━━━━━━━━━━━━━━━━━━━━━━━━━━━━\u001b[0m \u001b[32m48.2/48.2 kB\u001b[0m \u001b[31m711.3 kB/s\u001b[0m eta \u001b[36m0:00:00\u001b[0ma \u001b[36m0:00:01\u001b[0m\n",
      "\u001b[?25hRequirement already satisfied: numpy<2,>=1 in /Users/r07525009/.pyenv/versions/miniforge3/lib/python3.9/site-packages (from langchain) (1.23.1)\n",
      "Collecting aiohttp<4.0.0,>=3.8.3\n",
      "  Downloading aiohttp-3.9.1-cp39-cp39-macosx_11_0_arm64.whl (387 kB)\n",
      "\u001b[2K     \u001b[90m━━━━━━━━━━━━━━━━━━━━━━━━━━━━━━━━━━━━━\u001b[0m \u001b[32m387.3/387.3 kB\u001b[0m \u001b[31m773.2 kB/s\u001b[0m eta \u001b[36m0:00:00\u001b[0ma \u001b[36m0:00:01\u001b[0m\n",
      "\u001b[?25hCollecting pydantic<3,>=1\n",
      "  Downloading pydantic-2.5.3-py3-none-any.whl (381 kB)\n",
      "\u001b[2K     \u001b[90m━━━━━━━━━━━━━━━━━━━━━━━━━━━━━━━━━━━━━\u001b[0m \u001b[32m381.9/381.9 kB\u001b[0m \u001b[31m779.7 kB/s\u001b[0m eta \u001b[36m0:00:00\u001b[0ma \u001b[36m0:00:01\u001b[0m\n",
      "\u001b[?25hCollecting tenacity<9.0.0,>=8.1.0\n",
      "  Downloading tenacity-8.2.3-py3-none-any.whl (24 kB)\n",
      "Collecting SQLAlchemy<3,>=1.4\n",
      "  Downloading SQLAlchemy-2.0.25-cp39-cp39-macosx_11_0_arm64.whl (2.1 MB)\n",
      "\u001b[2K     \u001b[90m━━━━━━━━━━━━━━━━━━━━━━━━━━━━━━━━━━━━━━━━\u001b[0m \u001b[32m2.1/2.1 MB\u001b[0m \u001b[31m914.2 kB/s\u001b[0m eta \u001b[36m0:00:00\u001b[0m00:01\u001b[0m00:01\u001b[0m\n",
      "\u001b[?25hCollecting langchain-community<0.1,>=0.0.9\n",
      "  Downloading langchain_community-0.0.9-py3-none-any.whl (1.5 MB)\n",
      "\u001b[2K     \u001b[90m━━━━━━━━━━━━━━━━━━━━━━━━━━━━━━━━━━━━━━━━\u001b[0m \u001b[32m1.5/1.5 MB\u001b[0m \u001b[31m1.0 MB/s\u001b[0m eta \u001b[36m0:00:00\u001b[0m00:01\u001b[0m00:01\u001b[0m\n",
      "\u001b[?25hCollecting langchain-core<0.2,>=0.1.7\n",
      "  Downloading langchain_core-0.1.7-py3-none-any.whl (214 kB)\n",
      "\u001b[2K     \u001b[90m━━━━━━━━━━━━━━━━━━━━━━━━━━━━━━━━━━━━━\u001b[0m \u001b[32m214.3/214.3 kB\u001b[0m \u001b[31m876.7 kB/s\u001b[0m eta \u001b[36m0:00:00\u001b[0ma \u001b[36m0:00:01\u001b[0m\n",
      "\u001b[?25hRequirement already satisfied: regex>=2022.1.18 in /Users/r07525009/.pyenv/versions/miniforge3/lib/python3.9/site-packages (from tiktoken) (2022.9.13)\n",
      "Collecting multidict<7.0,>=4.5\n",
      "  Using cached multidict-6.0.4-cp39-cp39-macosx_11_0_arm64.whl (29 kB)\n",
      "Requirement already satisfied: attrs>=17.3.0 in /Users/r07525009/.pyenv/versions/miniforge3/lib/python3.9/site-packages (from aiohttp<4.0.0,>=3.8.3->langchain) (22.1.0)\n",
      "Collecting aiosignal>=1.1.2\n",
      "  Using cached aiosignal-1.3.1-py3-none-any.whl (7.6 kB)\n",
      "Collecting yarl<2.0,>=1.0\n",
      "  Downloading yarl-1.9.4-cp39-cp39-macosx_11_0_arm64.whl (81 kB)\n",
      "\u001b[2K     \u001b[90m━━━━━━━━━━━━━━━━━━━━━━━━━━━━━━━━━━━━━━━━\u001b[0m \u001b[32m81.8/81.8 kB\u001b[0m \u001b[31m1.0 MB/s\u001b[0m eta \u001b[36m0:00:00\u001b[0ma \u001b[36m0:00:01\u001b[0m\n",
      "\u001b[?25hCollecting frozenlist>=1.1.1\n",
      "  Downloading frozenlist-1.4.1-cp39-cp39-macosx_11_0_arm64.whl (53 kB)\n",
      "\u001b[2K     \u001b[90m━━━━━━━━━━━━━━━━━━━━━━━━━━━━━━━━━━━━━━━\u001b[0m \u001b[32m53.7/53.7 kB\u001b[0m \u001b[31m361.0 kB/s\u001b[0m eta \u001b[36m0:00:00\u001b[0ma \u001b[36m0:00:01\u001b[0m\n",
      "\u001b[?25hCollecting typing-inspect<1,>=0.4.0\n",
      "  Downloading typing_inspect-0.9.0-py3-none-any.whl (8.8 kB)\n",
      "Collecting marshmallow<4.0.0,>=3.18.0\n",
      "  Downloading marshmallow-3.20.1-py3-none-any.whl (49 kB)\n",
      "\u001b[2K     \u001b[90m━━━━━━━━━━━━━━━━━━━━━━━━━━━━━━━━━━━━━━━\u001b[0m \u001b[32m49.4/49.4 kB\u001b[0m \u001b[31m589.6 kB/s\u001b[0m eta \u001b[36m0:00:00\u001b[0ma \u001b[36m0:00:01\u001b[0m\n",
      "\u001b[?25hCollecting jsonpointer>=1.9\n",
      "  Downloading jsonpointer-2.4-py2.py3-none-any.whl (7.8 kB)\n",
      "Collecting packaging<24.0,>=23.2\n",
      "  Downloading packaging-23.2-py3-none-any.whl (53 kB)\n",
      "\u001b[2K     \u001b[90m━━━━━━━━━━━━━━━━━━━━━━━━━━━━━━━━━━━━━━━\u001b[0m \u001b[32m53.0/53.0 kB\u001b[0m \u001b[31m766.1 kB/s\u001b[0m eta \u001b[36m0:00:00\u001b[0m:--:--\u001b[0m\n",
      "\u001b[?25hCollecting anyio<5,>=3\n",
      "  Downloading anyio-4.2.0-py3-none-any.whl (85 kB)\n",
      "\u001b[2K     \u001b[90m━━━━━━━━━━━━━━━━━━━━━━━━━━━━━━━━━━━━━━━━\u001b[0m \u001b[32m85.5/85.5 kB\u001b[0m \u001b[31m1.1 MB/s\u001b[0m eta \u001b[36m0:00:00\u001b[0ma \u001b[36m0:00:01\u001b[0m\n",
      "\u001b[?25hCollecting annotated-types>=0.4.0\n",
      "  Downloading annotated_types-0.6.0-py3-none-any.whl (12 kB)\n",
      "Collecting pydantic-core==2.14.6\n",
      "  Downloading pydantic_core-2.14.6-cp39-cp39-macosx_11_0_arm64.whl (1.7 MB)\n",
      "\u001b[2K     \u001b[90m━━━━━━━━━━━━━━━━━━━━━━━━━━━━━━━━━━━━━━━━\u001b[0m \u001b[32m1.7/1.7 MB\u001b[0m \u001b[31m1.4 MB/s\u001b[0m eta \u001b[36m0:00:00\u001b[0m00:01\u001b[0m00:01\u001b[0m\n",
      "\u001b[?25hCollecting typing-extensions>=4.6.1\n",
      "  Downloading typing_extensions-4.9.0-py3-none-any.whl (32 kB)\n",
      "Requirement already satisfied: urllib3<1.27,>=1.21.1 in /Users/r07525009/.pyenv/versions/miniforge3/lib/python3.9/site-packages (from requests<3,>=2->langchain) (1.26.11)\n",
      "Requirement already satisfied: idna<4,>=2.5 in /Users/r07525009/.pyenv/versions/miniforge3/lib/python3.9/site-packages (from requests<3,>=2->langchain) (3.3)\n",
      "Requirement already satisfied: certifi>=2017.4.17 in /Users/r07525009/.pyenv/versions/miniforge3/lib/python3.9/site-packages (from requests<3,>=2->langchain) (2022.6.15)\n",
      "Requirement already satisfied: charset-normalizer<3,>=2 in /Users/r07525009/.pyenv/versions/miniforge3/lib/python3.9/site-packages (from requests<3,>=2->langchain) (2.1.0)\n",
      "Collecting exceptiongroup>=1.0.2\n",
      "  Downloading exceptiongroup-1.2.0-py3-none-any.whl (16 kB)\n",
      "Collecting sniffio>=1.1\n",
      "  Using cached sniffio-1.3.0-py3-none-any.whl (10 kB)\n",
      "Collecting mypy-extensions>=0.3.0\n",
      "  Using cached mypy_extensions-1.0.0-py3-none-any.whl (4.7 kB)\n",
      "Installing collected packages: faiss-cpu, typing-extensions, tenacity, sniffio, PyYAML, packaging, mypy-extensions, multidict, jsonpointer, frozenlist, exceptiongroup, async-timeout, annotated-types, yarl, typing-inspect, tiktoken, SQLAlchemy, pydantic-core, marshmallow, jsonpatch, anyio, aiosignal, pydantic, dataclasses-json, aiohttp, langsmith, langchain-core, langchain-community, langchain\n",
      "  Attempting uninstall: typing-extensions\n",
      "    Found existing installation: typing_extensions 4.3.0\n",
      "    Uninstalling typing_extensions-4.3.0:\n",
      "      Successfully uninstalled typing_extensions-4.3.0\n",
      "  Attempting uninstall: packaging\n",
      "    Found existing installation: packaging 21.3\n",
      "    Uninstalling packaging-21.3:\n",
      "      Successfully uninstalled packaging-21.3\n",
      "Successfully installed PyYAML-6.0.1 SQLAlchemy-2.0.25 aiohttp-3.9.1 aiosignal-1.3.1 annotated-types-0.6.0 anyio-4.2.0 async-timeout-4.0.3 dataclasses-json-0.6.3 exceptiongroup-1.2.0 faiss-cpu-1.7.4 frozenlist-1.4.1 jsonpatch-1.33 jsonpointer-2.4 langchain-0.1.0 langchain-community-0.0.9 langchain-core-0.1.7 langsmith-0.0.77 marshmallow-3.20.1 multidict-6.0.4 mypy-extensions-1.0.0 packaging-23.2 pydantic-2.5.3 pydantic-core-2.14.6 sniffio-1.3.0 tenacity-8.2.3 tiktoken-0.5.2 typing-extensions-4.9.0 typing-inspect-0.9.0 yarl-1.9.4\n"
     ]
    }
   ],
   "source": [
    "!pip install langchain faiss-cpu tiktoken openai pypdf"
   ]
  },
  {
   "cell_type": "code",
   "execution_count": 1,
   "metadata": {},
   "outputs": [],
   "source": [
    "from langchain.embeddings.openai import OpenAIEmbeddings\n",
    "from langchain.vectorstores import FAISS\n",
    "from langchain.document_loaders import TextLoader, PyPDFLoader\n",
    "from langchain.text_splitter import CharacterTextSplitter\n",
    "from langchain.llms import OpenAI\n",
    "from langchain.chains import RetrievalQA\n",
    "\n",
    "from langchain.chat_models import ChatOpenAI\n",
    "from langchain.llms import OpenAI\n",
    "from langchain.agents import load_tools, initialize_agent, Tool\n",
    "from langchain.tools import HumanInputRun\n",
    "from langchain.agents import AgentType"
   ]
  },
  {
   "cell_type": "code",
   "execution_count": 2,
   "metadata": {},
   "outputs": [
    {
     "name": "stderr",
     "output_type": "stream",
     "text": [
      "/Users/r07525009/.pyenv/versions/miniforge3/lib/python3.9/site-packages/langchain_core/_api/deprecation.py:189: LangChainDeprecationWarning: The class `ChatOpenAI` was deprecated in LangChain 0.1.0 and will be removed in 0.2.0. Use langchain_openai.ChatOpenAI instead.\n",
      "  warn_deprecated(\n",
      "/Users/r07525009/.pyenv/versions/miniforge3/lib/python3.9/site-packages/langchain_core/_api/deprecation.py:189: LangChainDeprecationWarning: The class `OpenAIEmbeddings` was deprecated in LangChain 0.1.0 and will be removed in 0.2.0. Use langchain_openai.OpenAIEmbeddings instead.\n",
      "  warn_deprecated(\n"
     ]
    }
   ],
   "source": [
    "openai_api_key = \"\"\n",
    "\n",
    "llm = ChatOpenAI(temperature=0.0, openai_api_key=openai_api_key)\n",
    "embeddings = OpenAIEmbeddings(openai_api_key=openai_api_key)"
   ]
  },
  {
   "cell_type": "code",
   "execution_count": 5,
   "metadata": {},
   "outputs": [],
   "source": [
    "def save_pdf_to_faiss_db(pdf_file, save_dir):\n",
    "    # Loading PDF document\n",
    "    loader = PyPDFLoader(pdf_file)\n",
    "    documents = loader.load()\n",
    "    text_splitter = CharacterTextSplitter(chunk_size=1000, chunk_overlap=0)\n",
    "    texts = text_splitter.split_documents(documents)\n",
    "    print(texts)\n",
    "\n",
    "    # Get FAISS embedding and save\n",
    "    db = FAISS.from_documents(texts, embeddings)\n",
    "    db.save_local(save_dir)\n",
    "    return db\n",
    "\n",
    "def create_retrival_chain(db):\n",
    "    # Creating retrieval QA chains\n",
    "    db_retriever = RetrievalQA.from_chain_type(\n",
    "        llm=llm, chain_type=\"stuff\", retriever=db.as_retriever()\n",
    "    )\n",
    "    return db_retriever\n",
    "\n",
    "def create_retrieval_tool(pdf_file, save_dir, tool_name, tool_description):\n",
    "\n",
    "    db = save_pdf_to_faiss_db(pdf_file, save_dir)\n",
    "    db_retriever = create_retrival_chain(db)\n",
    "\n",
    "    retrieval_tool = Tool(\n",
    "            name=tool_name,\n",
    "            func=db_retriever.run,\n",
    "            description=tool_description,\n",
    "            return_direct=True\n",
    "        )\n",
    "    return retrieval_tool"
   ]
  },
  {
   "cell_type": "code",
   "execution_count": 6,
   "metadata": {},
   "outputs": [
    {
     "name": "stdout",
     "output_type": "stream",
     "text": [
      "[Document(page_content='住院兒童發生跌倒原因  \\n \\n兒童因素 :  \\n \\n1.因疾病造成意識不清、躁動、虛弱、步  \\n \\n  態不穩  \\n \\n2.活動力旺盛、喜歡爬上爬下  \\n \\n照顧者因素 : \\n \\n1.雙側床欄沒有完全拉高  \\n \\n2.讓兒在陪客床上活動  \\n \\n3.使用嬰兒推車或輪椅沒有正確使用煞  \\n \\n  車、安全帶  \\n \\n4.照顧者離開，兒童沒有人看顧  \\n \\n藥物因素 : \\n \\n1.鎮靜麻醉藥 :嗜睡、眩暈、注意力不集中  \\n \\n2.利尿劑、軟便劑 :增加上廁所次數  \\n \\n3.降血糖藥 :暈眩、低血糖  \\n \\n環境因素 : \\n \\n1.地板濕滑  \\n \\n2.照明不足  \\n \\n3.輪椅、推車不足', metadata={'source': './data/住院兒童發生跌倒原因.pdf', 'page': 0}), Document(page_content='跌倒常見併發症  \\n \\n1.局部擦傷、挫傷、瘀青、流血  \\n \\n2.受撞擊部位骨折  \\n \\n3.頭部外傷或顱內出血  \\n \\n \\n \\n預防跌倒方法  \\n \\n1.不分年齡的兒童在床上，請隨時務必保  持雙側床欄完全拉高。  \\n \\n2.兒童在床上活動時，請將床頭、床尾搖   平，且避免將棉被枕頭堆疊產生高\\n度，   以免造成床欄高度不足以保護兒童。  \\n \\n3.嚴禁將兒童放置於陪客床、無椅背及扶手的椅子上。  \\n \\n4.平時請將陪客床收起來、物品放到置物櫃，以增加病房內活動空間。  \\n \\n5.使用嬰兒推車或輪椅，請選擇合適大小的輪椅，並使用煞車、安全帶。  \\n \\n6.不可讓兒童自行使用移動式點滴架，行走時。請家屬務必牽兒童的手。  \\n \\n7.保持地板乾燥，若發現地板潮濕，請馬上通知護理人員請環衞人員立即處\\n理。  \\n \\n8.兒童虛弱無力時，請盡量使用尿片或便盆、尿壺，以減少下床的機會  \\n \\n9.請給兒童穿合適的衣褲、止滑的鞋子。   \\n \\n10.護理站備有浴室安全座椅，當家屬需要可以洽護理站。  \\n \\n11.若兒童比較好動時，護理站備有防撞護欄，可保護兒童避免撞到，請家屬多  \\n注意兒童活動時的安全。', metadata={'source': './data/住院兒童發生跌倒原因.pdf', 'page': 1}), Document(page_content='12.勿讓兒童單獨在病房、陪客床、洗手間、走廊、遊戲室、電梯口、樓梯口。  \\n \\n \\n \\n \\n \\n \\n \\n四、正確 使用床欄的方法 : \\n \\n \\n \\n      \\n \\n      外拉上提  \\n \\n   \\n \\n    拉至頂點  \\n \\n   \\n \\n      下壓確認', metadata={'source': './data/住院兒童發生跌倒原因.pdf', 'page': 2}), Document(page_content='五、正確使用推車輪椅的方法 : \\n \\n請先使用剎車扳開腳踏板將兒童抱或扶到座位上繫上安全帶並調整合適的鬆緊\\n度，將腳放在腳踏板上。  \\n \\n \\n \\n \\n \\n \\n \\n \\n \\n \\n \\n六、跌倒了，怎麼辦 ? \\n \\n   當兒童發生跌倒時，請立刻通知醫護人員，護理人員會評估受傷情形並協助\\n傷口處理，如果出現是手、腳、關節疼痛、哭鬧不停、嗜睡、頭痛、頭暈、噁\\n心嘔吐，則可能需要安排進一步的檢查。', metadata={'source': './data/住院兒童發生跌倒原因.pdf', 'page': 3})]\n"
     ]
    }
   ],
   "source": [
    "file1 = \"./data/住院兒童發生跌倒原因.pdf\"\n",
    "savedir1 = \"faiss_idx_childfall\"\n",
    "tool_name1 = \"Children fall QA system\"\n",
    "tool_description1 = \"用以回答住院兒童跌倒相關問題。\"\n",
    "\n",
    "childfall_qa_tool = create_retrieval_tool(pdf_file=file1, save_dir=savedir1, tool_name=tool_name1, tool_description=tool_description1)"
   ]
  },
  {
   "cell_type": "code",
   "execution_count": 7,
   "metadata": {},
   "outputs": [
    {
     "name": "stdout",
     "output_type": "stream",
     "text": [
      "[Document(page_content='孕產婦住院預防跌倒須知  \\n婦產科衛教護理師  陳翠玲  整理 \\n一、常見發生跌倒原因：  \\n1.個人健康因素：頭暈、貧血、高血壓、低血糖、長期臥床安胎。  \\n2.環境因素：地面濕滑、照明不足等。  \\n3.藥物因素：  \\n(1)軟便劑：如廁次數增加、急忙如廁。  \\n(2)降血壓藥：姿態性低血壓、暈眩、肌肉無力、步態不穩。  \\n(3)降血糖藥：暈眩、低血糖症狀。  \\n(4)利尿劑：如廁次數增加、姿態性低血壓。  \\n(5)抗癲癇藥與精神科用藥：嗜睡、暈眩、反應時間延遲、注意力不集中。  \\n(6)使用減痛分娩致下肢無力。  \\n二、跌倒常見併發症？  \\n孕產婦跌倒可能造成嚴重的外部傷害 (如 圖一)，增加失能機會；而對於寶寶則增加早產或死產的風險。  \\n三、如何預防因服用藥物而跌倒？  \\n1.服藥期間有任何問題，請先與醫師討論，勿自行調整用藥。  \\n2.若有使用軟便劑、利尿劑時，家屬應留意夜間孕產婦如廁需求。  \\n3.若有暈眩、步態不穩、下肢無力者，暫勿下床。  \\n四、如何預防跌倒？  \\n待產時  \\n1.為了監測胎兒的狀況，將會裝置胎兒監視器，裝置後仍可進行床上翻身、短暫坐起進食及四肢關節活\\n動。 \\n2.叫人鈴置放於待產婦可及之處，需要時可按鈴告知。  \\n3.當需下床如廁時，務必有照顧者或護理 人員陪伴下，採漸進式下床，以免發生因頭暈或重心不穩而導致\\n跌倒之危險。  \\n4.若待產婦有施行減痛分娩，已經破水或產程進入活動期 (子宮頸擴張 ≧6公分)，則切勿下床，應使用床上\\n便盆如廁。  \\n產後照護  \\n許多產婦在第一次下床時容易有暈眩感，尤其是在上完廁所要起身的時候。所以請務必注意 : \\n1.產後第一次下床時都需家屬全程陪同。  \\n2.採漸進式下床：先床頭搖高坐起 5分鐘；雙腳垂於床緣再坐 5分鐘；然後再站起來於床緣站 5分鐘，確\\n認無頭暈現象，才能由家屬陪同至廁所。  \\n3.預防低血糖 :除特殊情況需禁食外，可以攝取易消化之食物或溫熱飲食，以免低血糖發生頭暈情形。  \\n4.感覺暈眩時，留在原地勿起身，請拉緊急叫人鈴。  \\n5.移動身體動作勿太快。  \\n防跌愛的小叮嚀', metadata={'source': './data/孕產婦住院預防跌倒須知.pdf', 'page': 0}), Document(page_content='1.隨時將床欄拉起，預防意外跌落，上、下床時，應先將病床高度調整至最低位，以避免腳踩空。下床\\n時，應先將床欄放下，切勿翻越 (如 圖二)。 \\n2.進出浴廁時，家屬應先備妥用物  (沖洗器裝溫開水、衛生紙、衛生棉、紙褲 )再去浴室，確認動線安全及\\n掀好馬桶蓋後，讓孕產婦可直接使用。 (如 圖三)。 \\n3.如廁時，若有眩暈的情形，請按廁所內叫人 鈴(如 圖四)，並坐在馬桶上直到頭不暈，緩慢移動身體再起\\n身。 \\n4.當您需要任何協助而無家屬在旁時，請立即以叫人鈴通知護理人員 (如 圖五)。 \\n5.穿著合適的衣褲、鞋子或拖鞋，勿打赤腳。  \\n6.若孕產婦虛弱或無力時，應使用床上便盆或向護理站借用便盆椅使用，以降低意外傷害 (如 圖六)。 \\n7.於病房外走動時，建議由家屬陪伴並使用走道旁之扶手 (如 圖七)。 \\n8.若地板有水漬濕滑情形，請隨時向工作人員反應，以維護您的安全 (如 圖八)。 \\n五、跌倒了，怎麼辦？  \\n產婦如發生跌倒情況，除了要趕快請醫師檢查治療以外，必須持續觀察， 如果出現下列任何一種徵兆，需\\n通知醫護人員。  \\n1.注意觀察身體外觀是否有外傷骨折，撞擊的部位外觀是否有發紅、腫脹、疼痛。  \\n2.腹部或頭部劇烈疼痛。  \\n如是待產婦，除上述項目外，需再注意 : \\n1.覺得肚子規則宮縮。  \\n2.陰道持續出血或有滲漏出無色水漾液 (破水)。 \\n3.胎動減少或沒有胎動。', metadata={'source': './data/孕產婦住院預防跌倒須知.pdf', 'page': 1})]\n"
     ]
    }
   ],
   "source": [
    "file2 = \"./data/孕產婦住院預防跌倒須知.pdf\"\n",
    "savedir2 = \"faiss_idx_pregnantfall\"\n",
    "tool_name2 = \"Pregnant women fall QA system\"\n",
    "tool_description2 = \"用以回答住院孕婦跌倒相關問題。\"\n",
    "\n",
    "pwomenfall_qa_tool = create_retrieval_tool(pdf_file=file2, save_dir=savedir2, tool_name=tool_name2, tool_description=tool_description2)"
   ]
  },
  {
   "cell_type": "code",
   "execution_count": 11,
   "metadata": {},
   "outputs": [
    {
     "name": "stderr",
     "output_type": "stream",
     "text": [
      "/Users/r07525009/.pyenv/versions/miniforge3/lib/python3.9/site-packages/langchain_core/_api/deprecation.py:189: LangChainDeprecationWarning: The function `initialize_agent` was deprecated in LangChain 0.1.0 and will be removed in 0.2.0. Use Use new agent constructor methods like create_react_agent, create_json_agent, create_structured_chat_agent, etc. instead.\n",
      "  warn_deprecated(\n",
      "/Users/r07525009/.pyenv/versions/miniforge3/lib/python3.9/site-packages/langchain_core/_api/deprecation.py:189: LangChainDeprecationWarning: The class `ZeroShotAgent` was deprecated in LangChain 0.1.0 and will be removed in 0.2.0. Use create_react_agent instead.\n",
      "  warn_deprecated(\n",
      "/Users/r07525009/.pyenv/versions/miniforge3/lib/python3.9/site-packages/langchain_core/_api/deprecation.py:189: LangChainDeprecationWarning: The class `Agent` was deprecated in LangChain 0.1.0 and will be removed in 0.2.0. Use Use new agent constructor methods like create_react_agent, create_json_agent, create_structured_chat_agent, etc. instead.\n",
      "  warn_deprecated(\n"
     ]
    }
   ],
   "source": [
    "human_input = HumanInputRun()\n",
    "\n",
    "tools = [\n",
    "    childfall_qa_tool,\n",
    "    pwomenfall_qa_tool,\n",
    "    human_input\n",
    "]\n",
    "\n",
    "agent_chain = initialize_agent(\n",
    "    tools,\n",
    "    llm,\n",
    "    agent=\"chat-zero-shot-react-description\", # agent=AgentType.ZERO_SHOT_REACT_DESCRIPTION,\n",
    "    verbose=True,\n",
    "    handle_parsing_errors=True\n",
    ")"
   ]
  },
  {
   "cell_type": "code",
   "execution_count": 9,
   "metadata": {},
   "outputs": [
    {
     "name": "stderr",
     "output_type": "stream",
     "text": [
      "/Users/r07525009/.pyenv/versions/miniforge3/lib/python3.9/site-packages/langchain_core/_api/deprecation.py:189: LangChainDeprecationWarning: The function `run` was deprecated in LangChain 0.1.0 and will be removed in 0.2.0. Use invoke instead.\n",
      "  warn_deprecated(\n",
      "/Users/r07525009/.pyenv/versions/miniforge3/lib/python3.9/site-packages/langchain_core/_api/deprecation.py:189: LangChainDeprecationWarning: The function `__call__` was deprecated in LangChain 0.1.0 and will be removed in 0.2.0. Use invoke instead.\n",
      "  warn_deprecated(\n",
      "/Users/r07525009/.pyenv/versions/miniforge3/lib/python3.9/site-packages/langchain_core/_api/deprecation.py:189: LangChainDeprecationWarning: The function `__call__` was deprecated in LangChain 0.1.0 and will be removed in 0.2.0. Use invoke instead.\n",
      "  warn_deprecated(\n"
     ]
    },
    {
     "name": "stdout",
     "output_type": "stream",
     "text": [
      "\n",
      "\n",
      "\u001b[1m> Entering new AgentExecutor chain...\u001b[0m\n",
      "\u001b[32;1m\u001b[1;3mI should check the Children fall QA system for information on the causes of falls in children.\n",
      "Action: Children fall QA system\n",
      "Action Input: Causes of falls in children\u001b[0m"
     ]
    },
    {
     "name": "stderr",
     "output_type": "stream",
     "text": [
      "/Users/r07525009/.pyenv/versions/miniforge3/lib/python3.9/site-packages/langchain_core/_api/deprecation.py:189: LangChainDeprecationWarning: The function `run` was deprecated in LangChain 0.1.0 and will be removed in 0.2.0. Use invoke instead.\n",
      "  warn_deprecated(\n",
      "/Users/r07525009/.pyenv/versions/miniforge3/lib/python3.9/site-packages/langchain_core/_api/deprecation.py:189: LangChainDeprecationWarning: The function `__call__` was deprecated in LangChain 0.1.0 and will be removed in 0.2.0. Use invoke instead.\n",
      "  warn_deprecated(\n",
      "/Users/r07525009/.pyenv/versions/miniforge3/lib/python3.9/site-packages/langchain_core/_api/deprecation.py:189: LangChainDeprecationWarning: The function `run` was deprecated in LangChain 0.1.0 and will be removed in 0.2.0. Use invoke instead.\n",
      "  warn_deprecated(\n",
      "/Users/r07525009/.pyenv/versions/miniforge3/lib/python3.9/site-packages/langchain_core/_api/deprecation.py:189: LangChainDeprecationWarning: The function `__call__` was deprecated in LangChain 0.1.0 and will be removed in 0.2.0. Use invoke instead.\n",
      "  warn_deprecated(\n",
      "/Users/r07525009/.pyenv/versions/miniforge3/lib/python3.9/site-packages/langchain_core/_api/deprecation.py:189: LangChainDeprecationWarning: The function `__call__` was deprecated in LangChain 0.1.0 and will be removed in 0.2.0. Use invoke instead.\n",
      "  warn_deprecated(\n"
     ]
    },
    {
     "name": "stdout",
     "output_type": "stream",
     "text": [
      "\n",
      "Observation: \u001b[36;1m\u001b[1;3mCauses of falls in children can be categorized into different factors:\n",
      "\n",
      "1. Child-related factors:\n",
      "- Impaired consciousness, restlessness, weakness, or unsteady gait due to illness.\n",
      "- High activity levels and a tendency to climb up and down.\n",
      "\n",
      "2. Caregiver-related factors:\n",
      "- Inadequate raising of both sides of the bed rails.\n",
      "- Allowing the child to engage in activities on companion beds.\n",
      "- Incorrect use of baby strollers or wheelchairs, including not using brakes or safety belts.\n",
      "- Leaving the child unattended.\n",
      "\n",
      "3. Medication-related factors:\n",
      "- Sedatives or anesthesia causing drowsiness, dizziness, or lack of concentration.\n",
      "- Diuretics or laxatives increasing the frequency of using the toilet.\n",
      "- Hypoglycemic medications causing dizziness or low blood sugar.\n",
      "\n",
      "4. Environmental factors:\n",
      "- Slippery floors.\n",
      "- Insufficient lighting.\n",
      "- Inadequate availability of wheelchairs or strollers.\n",
      "\n",
      "It is important to address these factors to prevent falls in children.\u001b[0m\n",
      "\u001b[32;1m\u001b[1;3m\u001b[0m\n",
      "\n",
      "\u001b[1m> Finished chain.\u001b[0m\n"
     ]
    },
    {
     "data": {
      "text/plain": [
       "'Causes of falls in children can be categorized into different factors:\\n\\n1. Child-related factors:\\n- Impaired consciousness, restlessness, weakness, or unsteady gait due to illness.\\n- High activity levels and a tendency to climb up and down.\\n\\n2. Caregiver-related factors:\\n- Inadequate raising of both sides of the bed rails.\\n- Allowing the child to engage in activities on companion beds.\\n- Incorrect use of baby strollers or wheelchairs, including not using brakes or safety belts.\\n- Leaving the child unattended.\\n\\n3. Medication-related factors:\\n- Sedatives or anesthesia causing drowsiness, dizziness, or lack of concentration.\\n- Diuretics or laxatives increasing the frequency of using the toilet.\\n- Hypoglycemic medications causing dizziness or low blood sugar.\\n\\n4. Environmental factors:\\n- Slippery floors.\\n- Insufficient lighting.\\n- Inadequate availability of wheelchairs or strollers.\\n\\nIt is important to address these factors to prevent falls in children.'"
      ]
     },
     "execution_count": 9,
     "metadata": {},
     "output_type": "execute_result"
    }
   ],
   "source": [
    "agent_chain.run(\"有哪些跌倒原因？\")"
   ]
  },
  {
   "cell_type": "code",
   "execution_count": 12,
   "metadata": {},
   "outputs": [
    {
     "name": "stderr",
     "output_type": "stream",
     "text": [
      "/Users/r07525009/.pyenv/versions/miniforge3/lib/python3.9/site-packages/langchain_core/_api/deprecation.py:189: LangChainDeprecationWarning: The function `run` was deprecated in LangChain 0.1.0 and will be removed in 0.2.0. Use invoke instead.\n",
      "  warn_deprecated(\n",
      "/Users/r07525009/.pyenv/versions/miniforge3/lib/python3.9/site-packages/langchain_core/_api/deprecation.py:189: LangChainDeprecationWarning: The function `__call__` was deprecated in LangChain 0.1.0 and will be removed in 0.2.0. Use invoke instead.\n",
      "  warn_deprecated(\n",
      "/Users/r07525009/.pyenv/versions/miniforge3/lib/python3.9/site-packages/langchain_core/_api/deprecation.py:189: LangChainDeprecationWarning: The function `__call__` was deprecated in LangChain 0.1.0 and will be removed in 0.2.0. Use invoke instead.\n",
      "  warn_deprecated(\n"
     ]
    },
    {
     "name": "stdout",
     "output_type": "stream",
     "text": [
      "\n",
      "\n",
      "\u001b[1m> Entering new AgentExecutor chain...\u001b[0m\n",
      "\u001b[32;1m\u001b[1;3mI need to determine if the question is about children falling or pregnant women falling.\n",
      "Action: Ask the human for guidance.\n",
      "Action Input: What is the context of the question? Is it about children falling or pregnant women falling?\u001b[0m\n",
      "Observation: Ask the human for guidance. is not a valid tool, try one of [Children fall QA system, Pregnant women fall QA system, human].\n",
      "Thought:"
     ]
    },
    {
     "name": "stderr",
     "output_type": "stream",
     "text": [
      "/Users/r07525009/.pyenv/versions/miniforge3/lib/python3.9/site-packages/langchain_core/_api/deprecation.py:189: LangChainDeprecationWarning: The function `__call__` was deprecated in LangChain 0.1.0 and will be removed in 0.2.0. Use invoke instead.\n",
      "  warn_deprecated(\n"
     ]
    },
    {
     "name": "stdout",
     "output_type": "stream",
     "text": [
      "\u001b[32;1m\u001b[1;3mI need to use the Children fall QA system or the Pregnant women fall QA system to answer the question.\u001b[0m\n",
      "Observation: Invalid Format: Missing 'Action:' after 'Thought:\n",
      "Thought:"
     ]
    },
    {
     "name": "stderr",
     "output_type": "stream",
     "text": [
      "/Users/r07525009/.pyenv/versions/miniforge3/lib/python3.9/site-packages/langchain_core/_api/deprecation.py:189: LangChainDeprecationWarning: The function `__call__` was deprecated in LangChain 0.1.0 and will be removed in 0.2.0. Use invoke instead.\n",
      "  warn_deprecated(\n"
     ]
    },
    {
     "name": "stdout",
     "output_type": "stream",
     "text": [
      "\u001b[32;1m\u001b[1;3mI need to use the Children fall QA system or the Pregnant women fall QA system to answer the question.\n",
      "Action: Children fall QA system\n",
      "Action Input: 跌倒怎麼辦？\u001b[0m"
     ]
    },
    {
     "name": "stderr",
     "output_type": "stream",
     "text": [
      "/Users/r07525009/.pyenv/versions/miniforge3/lib/python3.9/site-packages/langchain_core/_api/deprecation.py:189: LangChainDeprecationWarning: The function `run` was deprecated in LangChain 0.1.0 and will be removed in 0.2.0. Use invoke instead.\n",
      "  warn_deprecated(\n",
      "/Users/r07525009/.pyenv/versions/miniforge3/lib/python3.9/site-packages/langchain_core/_api/deprecation.py:189: LangChainDeprecationWarning: The function `__call__` was deprecated in LangChain 0.1.0 and will be removed in 0.2.0. Use invoke instead.\n",
      "  warn_deprecated(\n",
      "/Users/r07525009/.pyenv/versions/miniforge3/lib/python3.9/site-packages/langchain_core/_api/deprecation.py:189: LangChainDeprecationWarning: The function `run` was deprecated in LangChain 0.1.0 and will be removed in 0.2.0. Use invoke instead.\n",
      "  warn_deprecated(\n",
      "/Users/r07525009/.pyenv/versions/miniforge3/lib/python3.9/site-packages/langchain_core/_api/deprecation.py:189: LangChainDeprecationWarning: The function `__call__` was deprecated in LangChain 0.1.0 and will be removed in 0.2.0. Use invoke instead.\n",
      "  warn_deprecated(\n",
      "/Users/r07525009/.pyenv/versions/miniforge3/lib/python3.9/site-packages/langchain_core/_api/deprecation.py:189: LangChainDeprecationWarning: The function `__call__` was deprecated in LangChain 0.1.0 and will be removed in 0.2.0. Use invoke instead.\n",
      "  warn_deprecated(\n"
     ]
    },
    {
     "name": "stdout",
     "output_type": "stream",
     "text": [
      "\n",
      "Observation: \u001b[36;1m\u001b[1;3m當兒童發生跌倒時，請立刻通知醫護人員，護理人員會評估受傷情形並協助傷口處理。如果出現手、腳、關節疼痛、哭鬧不停、嗜睡、頭痛、頭暈、噁心嘔吐等症狀，可能需要安排進一步的檢查。\u001b[0m\n",
      "\u001b[32;1m\u001b[1;3m\u001b[0m\n",
      "\n",
      "\u001b[1m> Finished chain.\u001b[0m\n"
     ]
    },
    {
     "data": {
      "text/plain": [
       "'當兒童發生跌倒時，請立刻通知醫護人員，護理人員會評估受傷情形並協助傷口處理。如果出現手、腳、關節疼痛、哭鬧不停、嗜睡、頭痛、頭暈、噁心嘔吐等症狀，可能需要安排進一步的檢查。'"
      ]
     },
     "execution_count": 12,
     "metadata": {},
     "output_type": "execute_result"
    }
   ],
   "source": [
    "agent_chain.run(\"跌倒怎麼辦？\")"
   ]
  },
  {
   "cell_type": "code",
   "execution_count": 16,
   "metadata": {},
   "outputs": [
    {
     "name": "stderr",
     "output_type": "stream",
     "text": [
      "/Users/r07525009/.pyenv/versions/miniforge3/lib/python3.9/site-packages/langchain_core/_api/deprecation.py:189: LangChainDeprecationWarning: The function `run` was deprecated in LangChain 0.1.0 and will be removed in 0.2.0. Use invoke instead.\n",
      "  warn_deprecated(\n",
      "/Users/r07525009/.pyenv/versions/miniforge3/lib/python3.9/site-packages/langchain_core/_api/deprecation.py:189: LangChainDeprecationWarning: The function `__call__` was deprecated in LangChain 0.1.0 and will be removed in 0.2.0. Use invoke instead.\n",
      "  warn_deprecated(\n",
      "/Users/r07525009/.pyenv/versions/miniforge3/lib/python3.9/site-packages/langchain_core/_api/deprecation.py:189: LangChainDeprecationWarning: The function `__call__` was deprecated in LangChain 0.1.0 and will be removed in 0.2.0. Use invoke instead.\n",
      "  warn_deprecated(\n"
     ]
    },
    {
     "name": "stdout",
     "output_type": "stream",
     "text": [
      "\n",
      "\n",
      "\u001b[1m> Entering new AgentExecutor chain...\u001b[0m\n",
      "\u001b[32;1m\u001b[1;3mQuestion: What are the common complications of falls?\n",
      "\n",
      "Thought: I think I can use the Children fall QA system to find the answer to this question.\n",
      "\n",
      "Action:\n",
      "```\n",
      "{\n",
      "  \"action\": \"Children fall QA system\",\n",
      "  \"action_input\": \"What are the common complications of falls?\"\n",
      "}\n",
      "```\u001b[0m"
     ]
    },
    {
     "name": "stderr",
     "output_type": "stream",
     "text": [
      "/Users/r07525009/.pyenv/versions/miniforge3/lib/python3.9/site-packages/langchain_core/_api/deprecation.py:189: LangChainDeprecationWarning: The function `run` was deprecated in LangChain 0.1.0 and will be removed in 0.2.0. Use invoke instead.\n",
      "  warn_deprecated(\n",
      "/Users/r07525009/.pyenv/versions/miniforge3/lib/python3.9/site-packages/langchain_core/_api/deprecation.py:189: LangChainDeprecationWarning: The function `__call__` was deprecated in LangChain 0.1.0 and will be removed in 0.2.0. Use invoke instead.\n",
      "  warn_deprecated(\n",
      "/Users/r07525009/.pyenv/versions/miniforge3/lib/python3.9/site-packages/langchain_core/_api/deprecation.py:189: LangChainDeprecationWarning: The function `run` was deprecated in LangChain 0.1.0 and will be removed in 0.2.0. Use invoke instead.\n",
      "  warn_deprecated(\n",
      "/Users/r07525009/.pyenv/versions/miniforge3/lib/python3.9/site-packages/langchain_core/_api/deprecation.py:189: LangChainDeprecationWarning: The function `__call__` was deprecated in LangChain 0.1.0 and will be removed in 0.2.0. Use invoke instead.\n",
      "  warn_deprecated(\n",
      "/Users/r07525009/.pyenv/versions/miniforge3/lib/python3.9/site-packages/langchain_core/_api/deprecation.py:189: LangChainDeprecationWarning: The function `__call__` was deprecated in LangChain 0.1.0 and will be removed in 0.2.0. Use invoke instead.\n",
      "  warn_deprecated(\n"
     ]
    },
    {
     "name": "stdout",
     "output_type": "stream",
     "text": [
      "\n",
      "Observation: \u001b[36;1m\u001b[1;3mThe common complications of falls include local abrasions, bruises, bleeding, fractures in the impacted area, head injuries, and intracranial bleeding.\u001b[0m\n",
      "\u001b[32;1m\u001b[1;3m\u001b[0m\n",
      "\n",
      "\u001b[1m> Finished chain.\u001b[0m\n"
     ]
    },
    {
     "data": {
      "text/plain": [
       "'The common complications of falls include local abrasions, bruises, bleeding, fractures in the impacted area, head injuries, and intracranial bleeding.'"
      ]
     },
     "execution_count": 16,
     "metadata": {},
     "output_type": "execute_result"
    }
   ],
   "source": [
    "agent_chain.run(\"跌倒常見的病發症有哪些？\")"
   ]
  },
  {
   "cell_type": "code",
   "execution_count": null,
   "metadata": {},
   "outputs": [],
   "source": []
  }
 ],
 "metadata": {
  "kernelspec": {
   "display_name": "base",
   "language": "python",
   "name": "python3"
  },
  "language_info": {
   "codemirror_mode": {
    "name": "ipython",
    "version": 3
   },
   "file_extension": ".py",
   "mimetype": "text/x-python",
   "name": "python",
   "nbconvert_exporter": "python",
   "pygments_lexer": "ipython3",
   "version": "3.9.13"
  }
 },
 "nbformat": 4,
 "nbformat_minor": 2
}
